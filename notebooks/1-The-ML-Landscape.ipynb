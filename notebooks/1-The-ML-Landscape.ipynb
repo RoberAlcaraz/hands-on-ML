{
 "cells": [
  {
   "cell_type": "markdown",
   "metadata": {},
   "source": [
    "# 1. The ML Landscape"
   ]
  },
  {
   "cell_type": "markdown",
   "metadata": {},
   "source": [
    "## Types of ML Systems\n",
    "\n",
    "### Supervised/Unsupervised Learning\n",
    "- In supervised learning, the training data include the labels of the desired variable. Ex: kNN, linear regression, SVMs, DT and RF, etc.\n",
    "- In unsupervised learning, the training data is unlabeled. There are some types: Clustering (K-Means, Hierarchical cluster analysis), Anomaly detection and novelty detection (One-class SVM, Isolation Forest), Visualization and Dimensionality reduction (PCA, Kernel PCA) or Association rule learning (Apriori, Eclat).\n",
    "- In semisupervised learning, not all the data is labelled, so it must combine both unsupervised and supervised learning.\n",
    "- In reinforcement learning, the learning system, called agent, can observe the environment\n",
    "\n",
    "### Batch and Online learning\n",
    "- In batch learning, the system is incapable to learn incrementally. It must be trained with all the available data and, if after there is new data, it should be retrained again.\n",
    "- In online learning, the system is trained incrementally by feeding it with bunches of data, called mini-batches.\n",
    "\n",
    "### Instance-Based vs Model-Based Learning\n",
    "It distinguish how both models generalize.\n",
    "\n",
    "- In instance-based learning, the system learns by heart and then it generalizes to new instances depending on their similarity with known examples.\n",
    "- In model-based learning, a model is built to make predictions\n",
    "\n",
    "### Main Challenges of ML\n",
    "\n",
    "- Insufficient Quantity of Training Data\n",
    "- Nonrepresentative Training data\n",
    "- Poor-Quality data\n",
    "- Irrelevant features\n",
    "- Overfitting the training data\n",
    "- Underfitting the training data\n",
    "\n",
    "### Testing and validating\n",
    "\n",
    "- Hyperparameter tuning and model selection\n",
    "- Data mismatch (the validation and test sets must be as representative as possible of the data you expect to use in the future)\n"
   ]
  },
  {
   "cell_type": "code",
   "execution_count": null,
   "metadata": {},
   "outputs": [],
   "source": []
  }
 ],
 "metadata": {
  "kernelspec": {
   "display_name": "Python 3.10.8 64-bit (microsoft store)",
   "language": "python",
   "name": "python3"
  },
  "language_info": {
   "name": "python",
   "version": "3.10.8"
  },
  "orig_nbformat": 4,
  "vscode": {
   "interpreter": {
    "hash": "cbabb6a6661170c103e1200ae5be4d0ad3a85cf2c948ad02dfb30634516f0145"
   }
  }
 },
 "nbformat": 4,
 "nbformat_minor": 2
}
